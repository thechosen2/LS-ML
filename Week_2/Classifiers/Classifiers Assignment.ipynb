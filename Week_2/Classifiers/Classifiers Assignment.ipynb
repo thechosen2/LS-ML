{
  "cells": [
    {
      "cell_type": "markdown",
      "metadata": {
        "id": "HJM8Y9mh5o4H"
      },
      "source": [
        "#WELCOME\n",
        "In this Assignment, you'll use **Classifier** to predict the output. You are allowed to write/edit between the\n",
        "```# START CODE HERE``` & ```# END CODE HERE``` only.<br>\n",
        "Don't edit the test cells otherwise you'd be failed in the assignment.\n",
        "\n",
        "Upload the ```utils.zip``` file before running the 1st cell.\n",
        "[Demo](https://drive.google.com/file/d/1ebkQR6ikjGottmxa5KL83ZWdjTLvRxbm/view?usp=share_link)\n",
        "\n",
        "**BEST OF LUCK**"
      ]
    },
    {
      "cell_type": "markdown",
      "metadata": {
        "id": "cEl-4aFCkdsB"
      },
      "source": [
        "**RUN THIS CODE TO UNIZP THE REQUIRED FILES**"
      ]
    },
    {
      "cell_type": "code",
      "execution_count": 1,
      "metadata": {
        "colab": {
          "base_uri": "https://localhost:8080/"
        },
        "id": "mCdV1dV8kawl",
        "outputId": "e193dd7e-fc0a-4f28-f1b0-4fb3269dc41a"
      },
      "outputs": [
        {
          "name": "stderr",
          "output_type": "stream",
          "text": [
            "'unzip' is not recognized as an internal or external command,\n",
            "operable program or batch file.\n"
          ]
        }
      ],
      "source": []
    },
    {
      "cell_type": "markdown",
      "metadata": {
        "id": "VA4ZUSGu0Ox3"
      },
      "source": [
        "# Dataset Loading and Pre-Processing"
      ]
    },
    {
      "cell_type": "code",
      "execution_count": 4,
      "metadata": {
        "id": "_tP5JsNsqBsI"
      },
      "outputs": [],
      "source": [
        "import pandas as pd\n",
        "data = pd.read_csv(\"./content/weather_classification_data.csv\")"
      ]
    },
    {
      "cell_type": "markdown",
      "metadata": {
        "id": "MBHkfY1c0gO6"
      },
      "source": [
        "## Data Info\n",
        "```data.info``` gives info about data-types and number of null objects.  \n",
        "There are no null data, no need to remove any."
      ]
    },
    {
      "cell_type": "code",
      "execution_count": 5,
      "metadata": {
        "colab": {
          "base_uri": "https://localhost:8080/"
        },
        "id": "O-myJ9LmqG8J",
        "outputId": "06bae75e-76bc-49c7-fad8-baa6d4bb0fa4"
      },
      "outputs": [
        {
          "name": "stdout",
          "output_type": "stream",
          "text": [
            "<class 'pandas.core.frame.DataFrame'>\n",
            "RangeIndex: 13200 entries, 0 to 13199\n",
            "Data columns (total 11 columns):\n",
            " #   Column                Non-Null Count  Dtype  \n",
            "---  ------                --------------  -----  \n",
            " 0   Temperature           13200 non-null  float64\n",
            " 1   Humidity              13200 non-null  int64  \n",
            " 2   Wind Speed            13200 non-null  float64\n",
            " 3   Precipitation (%)     13200 non-null  float64\n",
            " 4   Cloud Cover           13200 non-null  object \n",
            " 5   Atmospheric Pressure  13200 non-null  float64\n",
            " 6   UV Index              13200 non-null  int64  \n",
            " 7   Season                13200 non-null  object \n",
            " 8   Visibility (km)       13200 non-null  float64\n",
            " 9   Location              13200 non-null  object \n",
            " 10  Weather Type          13200 non-null  object \n",
            "dtypes: float64(5), int64(2), object(4)\n",
            "memory usage: 1.1+ MB\n"
          ]
        }
      ],
      "source": [
        "data.info()"
      ]
    },
    {
      "cell_type": "markdown",
      "metadata": {
        "id": "98kT9K8a1LF9"
      },
      "source": [
        "## Data Shuffling\n",
        "Data Shuffling removes any bias present and creates uniform distribution."
      ]
    },
    {
      "cell_type": "code",
      "execution_count": 8,
      "metadata": {
        "colab": {
          "base_uri": "https://localhost:8080/",
          "height": 206
        },
        "id": "DJ6bkcTbz8kP",
        "outputId": "e0f886e2-f944-4a16-bf4c-0c2de47b21eb"
      },
      "outputs": [
        {
          "data": {
            "text/html": [
              "<div>\n",
              "<style scoped>\n",
              "    .dataframe tbody tr th:only-of-type {\n",
              "        vertical-align: middle;\n",
              "    }\n",
              "\n",
              "    .dataframe tbody tr th {\n",
              "        vertical-align: top;\n",
              "    }\n",
              "\n",
              "    .dataframe thead th {\n",
              "        text-align: right;\n",
              "    }\n",
              "</style>\n",
              "<table border=\"1\" class=\"dataframe\">\n",
              "  <thead>\n",
              "    <tr style=\"text-align: right;\">\n",
              "      <th></th>\n",
              "      <th>Temperature</th>\n",
              "      <th>Humidity</th>\n",
              "      <th>Wind Speed</th>\n",
              "      <th>Precipitation (%)</th>\n",
              "      <th>Cloud Cover</th>\n",
              "      <th>Atmospheric Pressure</th>\n",
              "      <th>UV Index</th>\n",
              "      <th>Season</th>\n",
              "      <th>Visibility (km)</th>\n",
              "      <th>Location</th>\n",
              "      <th>Weather Type</th>\n",
              "    </tr>\n",
              "  </thead>\n",
              "  <tbody>\n",
              "    <tr>\n",
              "      <th>10111</th>\n",
              "      <td>3.0</td>\n",
              "      <td>88</td>\n",
              "      <td>5.0</td>\n",
              "      <td>54.0</td>\n",
              "      <td>overcast</td>\n",
              "      <td>987.78</td>\n",
              "      <td>0</td>\n",
              "      <td>Winter</td>\n",
              "      <td>3.0</td>\n",
              "      <td>mountain</td>\n",
              "      <td>Snowy</td>\n",
              "    </tr>\n",
              "    <tr>\n",
              "      <th>12563</th>\n",
              "      <td>33.0</td>\n",
              "      <td>94</td>\n",
              "      <td>13.5</td>\n",
              "      <td>67.0</td>\n",
              "      <td>overcast</td>\n",
              "      <td>997.77</td>\n",
              "      <td>3</td>\n",
              "      <td>Spring</td>\n",
              "      <td>4.5</td>\n",
              "      <td>coastal</td>\n",
              "      <td>Rainy</td>\n",
              "    </tr>\n",
              "    <tr>\n",
              "      <th>9889</th>\n",
              "      <td>-2.0</td>\n",
              "      <td>92</td>\n",
              "      <td>9.0</td>\n",
              "      <td>66.0</td>\n",
              "      <td>overcast</td>\n",
              "      <td>998.83</td>\n",
              "      <td>1</td>\n",
              "      <td>Winter</td>\n",
              "      <td>3.5</td>\n",
              "      <td>mountain</td>\n",
              "      <td>Snowy</td>\n",
              "    </tr>\n",
              "    <tr>\n",
              "      <th>7845</th>\n",
              "      <td>30.0</td>\n",
              "      <td>47</td>\n",
              "      <td>8.5</td>\n",
              "      <td>13.0</td>\n",
              "      <td>partly cloudy</td>\n",
              "      <td>1020.78</td>\n",
              "      <td>5</td>\n",
              "      <td>Spring</td>\n",
              "      <td>6.0</td>\n",
              "      <td>inland</td>\n",
              "      <td>Sunny</td>\n",
              "    </tr>\n",
              "    <tr>\n",
              "      <th>10622</th>\n",
              "      <td>16.0</td>\n",
              "      <td>97</td>\n",
              "      <td>19.0</td>\n",
              "      <td>59.0</td>\n",
              "      <td>overcast</td>\n",
              "      <td>1005.12</td>\n",
              "      <td>3</td>\n",
              "      <td>Summer</td>\n",
              "      <td>1.0</td>\n",
              "      <td>inland</td>\n",
              "      <td>Rainy</td>\n",
              "    </tr>\n",
              "  </tbody>\n",
              "</table>\n",
              "</div>"
            ],
            "text/plain": [
              "       Temperature  Humidity  Wind Speed  Precipitation (%)    Cloud Cover  \\\n",
              "10111          3.0        88         5.0               54.0       overcast   \n",
              "12563         33.0        94        13.5               67.0       overcast   \n",
              "9889          -2.0        92         9.0               66.0       overcast   \n",
              "7845          30.0        47         8.5               13.0  partly cloudy   \n",
              "10622         16.0        97        19.0               59.0       overcast   \n",
              "\n",
              "       Atmospheric Pressure  UV Index  Season  Visibility (km)  Location  \\\n",
              "10111                987.78         0  Winter              3.0  mountain   \n",
              "12563                997.77         3  Spring              4.5   coastal   \n",
              "9889                 998.83         1  Winter              3.5  mountain   \n",
              "7845                1020.78         5  Spring              6.0    inland   \n",
              "10622               1005.12         3  Summer              1.0    inland   \n",
              "\n",
              "      Weather Type  \n",
              "10111        Snowy  \n",
              "12563        Rainy  \n",
              "9889         Snowy  \n",
              "7845         Sunny  \n",
              "10622        Rainy  "
            ]
          },
          "execution_count": 8,
          "metadata": {},
          "output_type": "execute_result"
        }
      ],
      "source": [
        "from sklearn.utils import shuffle\n",
        "data = shuffle(data)\n",
        "data.head()"
      ]
    },
    {
      "cell_type": "markdown",
      "metadata": {
        "id": "7vKEzz9j19WQ"
      },
      "source": [
        "## Scaling and Labeling\n",
        "Machine can't understand string so all the object datatypes need to be LABELED with integers.<br><br>\n",
        "Why SCALING?<br>\n",
        "You might have noticed one column contains data with large values (of order 1000) whereas some column contain small value data (of order 10). As a result, large value columns get more power/importance than others. To remove this disparity we scaled them to same order/values."
      ]
    },
    {
      "cell_type": "markdown",
      "metadata": {
        "id": "TBg-lPJgzM4Y"
      },
      "source": [
        "**CODE**\n",
        "\n",
        "We need to find the columns with object datatypes.\n",
        "\n",
        "HINT: Use ```data.select_dtypes().columns.tolist()```<br>Reference: [w3schools](https://www.w3schools.com/python/pandas/ref_df_select_dtypes.asp#:~:text=The%20select_dtypes()%20method%20returns,the%20specified%20dtype(s).&text=Note%3A%20You%20must%20specify%20at,you%20will%20get%20an%20error.)"
      ]
    },
    {
      "cell_type": "code",
      "execution_count": 25,
      "metadata": {
        "colab": {
          "base_uri": "https://localhost:8080/"
        },
        "id": "cIIKd53NpRKU",
        "outputId": "02881a60-c9f4-4ad2-9ca7-2c36a27cf9e9"
      },
      "outputs": [
        {
          "name": "stdout",
          "output_type": "stream",
          "text": [
            "Object Columns: ['Cloud Cover', 'Season', 'Location', 'Weather Type']\n",
            "Non Object Columns: ['Temperature', 'Humidity', 'Wind Speed', 'Precipitation (%)', 'Atmospheric Pressure', 'UV Index', 'Visibility (km)']\n"
          ]
        }
      ],
      "source": [
        "# START CODE HERE\n",
        "object_columns = list(data.select_dtypes(include=['object']).columns)\n",
        "non_object_columns = list(data.select_dtypes(exclude=['object']).columns)\n",
        "# END CODE HERE\n",
        "print(f\"Object Columns: {object_columns}\\nNon Object Columns: {non_object_columns}\")"
      ]
    },
    {
      "cell_type": "markdown",
      "metadata": {
        "id": "KYlrJpdaAyKH"
      },
      "source": [
        "**TEST** (DON'T EDIT THIS CELL)"
      ]
    },
    {
      "cell_type": "code",
      "execution_count": 10,
      "metadata": {
        "colab": {
          "base_uri": "https://localhost:8080/"
        },
        "id": "z4-pWLR5_fVf",
        "outputId": "e29c814f-af7c-4eef-bb39-a694686a9c33"
      },
      "outputs": [
        {
          "name": "stdout",
          "output_type": "stream",
          "text": [
            "\u001b[32mTest Passed\u001b[0m\n"
          ]
        }
      ],
      "source": [
        "# DON'T EDIT THIS CELL\n",
        "if (object_columns == ['Cloud Cover', 'Season', 'Location', 'Weather Type'] and non_object_columns == ['Temperature', 'Humidity', 'Wind Speed', 'Precipitation (%)', 'Atmospheric Pressure', 'UV Index', 'Visibility (km)']):\n",
        "  print(f\"\\033[32mTest Passed\\033[0m\")\n",
        "else:\n",
        "  print(f\"\\033[31mTest Failed\\033[0m\")"
      ]
    },
    {
      "cell_type": "markdown",
      "metadata": {
        "id": "reVHprk6z_nD"
      },
      "source": [
        "**CODE**\n",
        "\n",
        "We need to convert the object-type columns data into integral labels and scale the non-object-type columns data.\n",
        "\n",
        "HINT: Use ```ColumnTransformer()```<br>Reference: [scikit-learn](https://scikit-learn.org/stable/modules/generated/sklearn.compose.ColumnTransformer.html), [ChatGPT](https://chatgpt.com/c/7f3c1b02-5da0-4c34-bdb2-d999dccb9c2f)"
      ]
    },
    {
      "cell_type": "code",
      "execution_count": 11,
      "metadata": {
        "id": "kVT5qfqarRhF"
      },
      "outputs": [],
      "source": [
        "from sklearn.preprocessing import OrdinalEncoder, StandardScaler\n",
        "from sklearn.compose import ColumnTransformer\n",
        "\n",
        "column_transformer = ColumnTransformer([('encoder', OrdinalEncoder(), object_columns),('scaler', StandardScaler(), non_object_columns)])\n",
        "\n",
        "data_scaled_labeled = column_transformer.fit_transform(data)\n",
        "\n",
        "# Fit and transform the data\n",
        "data_scaled_labeled = column_transformer.fit_transform(data)\n",
        "encoder = column_transformer.named_transformers_['encoder']\n",
        "weather_type_mapping = encoder.categories_[0]\n",
        "\n",
        "\n",
        "all_columns = object_columns + non_object_columns\n",
        "\n",
        "# Create the new DataFrame\n",
        "data_scaled_labeled = pd.DataFrame(data_scaled_labeled, columns=all_columns)"
      ]
    },
    {
      "cell_type": "markdown",
      "metadata": {
        "id": "2AvKGjfJk3cY"
      },
      "source": [
        "**TEST** (DON'T EDIT THIS CELL)"
      ]
    },
    {
      "cell_type": "code",
      "execution_count": 14,
      "metadata": {
        "colab": {
          "base_uri": "https://localhost:8080/"
        },
        "id": "7mT4H6o5D-mN",
        "outputId": "ac9e34a4-734c-48b2-da4e-aabdd35db2dd"
      },
      "outputs": [
        {
          "name": "stdout",
          "output_type": "stream",
          "text": [
            "\u001b[32mTest Passed\u001b[0m\n"
          ]
        }
      ],
      "source": [
        "# DON'T EDIT THIS CELL\n",
        "\n",
        "data_scaled_labeled_check = pd.read_csv(\"./content/data_scaled_labeled_check.csv\")\n",
        "import numpy as np\n",
        "data_scaled_labeled_values = np.sort(data_scaled_labeled.values,axis=0)\n",
        "data_scaled_labeled_check_values = np.sort(data_scaled_labeled_check.values,axis=0)\n",
        "if np.allclose(data_scaled_labeled_values, data_scaled_labeled_check_values, equal_nan=True):\n",
        "  print(f\"\\033[32mTest Passed\\033[0m\")\n",
        "else:\n",
        "  print(f\"\\033[31mTest Failed\\033[0m\")"
      ]
    },
    {
      "cell_type": "markdown",
      "metadata": {
        "id": "wpIxEziM2EYr"
      },
      "source": [
        "## Data Splitting"
      ]
    },
    {
      "cell_type": "markdown",
      "metadata": {
        "id": "GKCxivFq1rjB"
      },
      "source": [
        "**CODE**\n",
        "\n",
        "We need to drop the Weather Type column from data_scaled_labeled to get the X and pick Weather Type column to get Y\n",
        "\n",
        "Use 90-10 split of data, i.e. 90% for training, 10% for testing"
      ]
    },
    {
      "cell_type": "code",
      "execution_count": 15,
      "metadata": {
        "id": "e-gDICS-mZYG"
      },
      "outputs": [],
      "source": [
        "X = data_scaled_labeled.drop('Weather Type',axis=1)\n",
        "y = data_scaled_labeled['Weather Type']\n",
        "\n",
        "from sklearn.model_selection import train_test_split\n",
        "\n",
        "X_train, X_test, y_train, y_test = train_test_split(X,y, train_size = 0.9, random_state = 10)"
      ]
    },
    {
      "cell_type": "markdown",
      "metadata": {
        "id": "WjR9MqGMpJ82"
      },
      "source": [
        "**TEST** (DON'T EDIT THIS CELL)"
      ]
    },
    {
      "cell_type": "code",
      "execution_count": 16,
      "metadata": {
        "colab": {
          "base_uri": "https://localhost:8080/"
        },
        "id": "q5ZtYcaxKzFK",
        "outputId": "1078b5cd-132f-4890-f7d0-bd4a862bbe5b"
      },
      "outputs": [
        {
          "name": "stdout",
          "output_type": "stream",
          "text": [
            "\u001b[32mTest Passed\u001b[0m\n",
            "\u001b[32mTest Passed\u001b[0m\n"
          ]
        }
      ],
      "source": [
        "# DON'T EDIT THIS CELL\n",
        "\n",
        "if (len(X_train)==11880 and len(X_test)==1320):\n",
        "  print(f\"\\033[32mTest Passed\\033[0m\")\n",
        "else:\n",
        "  print(f\"\\033[31mTest Failed\\033[0m\")\n",
        "\n",
        "if (len(y_train)==11880 and len(y_test)==1320):\n",
        "  print(f\"\\033[32mTest Passed\\033[0m\")\n",
        "else:\n",
        "  print(f\"\\033[31mTest Failed\\033[0m\")"
      ]
    },
    {
      "cell_type": "code",
      "execution_count": 17,
      "metadata": {
        "colab": {
          "base_uri": "https://localhost:8080/",
          "height": 206
        },
        "id": "uwYLbRwPzNBd",
        "outputId": "7cfb03dd-cd25-451c-fee1-33c13de8de83"
      },
      "outputs": [
        {
          "data": {
            "text/html": [
              "<div>\n",
              "<style scoped>\n",
              "    .dataframe tbody tr th:only-of-type {\n",
              "        vertical-align: middle;\n",
              "    }\n",
              "\n",
              "    .dataframe tbody tr th {\n",
              "        vertical-align: top;\n",
              "    }\n",
              "\n",
              "    .dataframe thead th {\n",
              "        text-align: right;\n",
              "    }\n",
              "</style>\n",
              "<table border=\"1\" class=\"dataframe\">\n",
              "  <thead>\n",
              "    <tr style=\"text-align: right;\">\n",
              "      <th></th>\n",
              "      <th>Cloud Cover</th>\n",
              "      <th>Season</th>\n",
              "      <th>Location</th>\n",
              "      <th>Temperature</th>\n",
              "      <th>Humidity</th>\n",
              "      <th>Wind Speed</th>\n",
              "      <th>Precipitation (%)</th>\n",
              "      <th>Atmospheric Pressure</th>\n",
              "      <th>UV Index</th>\n",
              "      <th>Visibility (km)</th>\n",
              "    </tr>\n",
              "  </thead>\n",
              "  <tbody>\n",
              "    <tr>\n",
              "      <th>7017</th>\n",
              "      <td>2.0</td>\n",
              "      <td>3.0</td>\n",
              "      <td>2.0</td>\n",
              "      <td>-0.985155</td>\n",
              "      <td>0.212404</td>\n",
              "      <td>-0.554712</td>\n",
              "      <td>0.136346</td>\n",
              "      <td>-0.551315</td>\n",
              "      <td>-1.038715</td>\n",
              "      <td>-0.878846</td>\n",
              "    </tr>\n",
              "    <tr>\n",
              "      <th>12278</th>\n",
              "      <td>3.0</td>\n",
              "      <td>0.0</td>\n",
              "      <td>2.0</td>\n",
              "      <td>0.625367</td>\n",
              "      <td>-1.966517</td>\n",
              "      <td>-0.192836</td>\n",
              "      <td>-1.147097</td>\n",
              "      <td>0.132859</td>\n",
              "      <td>1.295035</td>\n",
              "      <td>0.604230</td>\n",
              "    </tr>\n",
              "    <tr>\n",
              "      <th>2859</th>\n",
              "      <td>2.0</td>\n",
              "      <td>3.0</td>\n",
              "      <td>1.0</td>\n",
              "      <td>-0.064857</td>\n",
              "      <td>0.955217</td>\n",
              "      <td>0.820417</td>\n",
              "      <td>1.075450</td>\n",
              "      <td>-0.220922</td>\n",
              "      <td>-0.779410</td>\n",
              "      <td>-0.582231</td>\n",
              "    </tr>\n",
              "    <tr>\n",
              "      <th>5495</th>\n",
              "      <td>3.0</td>\n",
              "      <td>1.0</td>\n",
              "      <td>2.0</td>\n",
              "      <td>0.625367</td>\n",
              "      <td>0.360966</td>\n",
              "      <td>0.675666</td>\n",
              "      <td>-0.896669</td>\n",
              "      <td>0.252488</td>\n",
              "      <td>-0.520104</td>\n",
              "      <td>0.900845</td>\n",
              "    </tr>\n",
              "    <tr>\n",
              "      <th>8469</th>\n",
              "      <td>0.0</td>\n",
              "      <td>0.0</td>\n",
              "      <td>1.0</td>\n",
              "      <td>0.740404</td>\n",
              "      <td>-1.223703</td>\n",
              "      <td>-0.699463</td>\n",
              "      <td>-1.428828</td>\n",
              "      <td>0.613527</td>\n",
              "      <td>1.295035</td>\n",
              "      <td>0.010999</td>\n",
              "    </tr>\n",
              "  </tbody>\n",
              "</table>\n",
              "</div>"
            ],
            "text/plain": [
              "       Cloud Cover  Season  Location  Temperature  Humidity  Wind Speed  \\\n",
              "7017           2.0     3.0       2.0    -0.985155  0.212404   -0.554712   \n",
              "12278          3.0     0.0       2.0     0.625367 -1.966517   -0.192836   \n",
              "2859           2.0     3.0       1.0    -0.064857  0.955217    0.820417   \n",
              "5495           3.0     1.0       2.0     0.625367  0.360966    0.675666   \n",
              "8469           0.0     0.0       1.0     0.740404 -1.223703   -0.699463   \n",
              "\n",
              "       Precipitation (%)  Atmospheric Pressure  UV Index  Visibility (km)  \n",
              "7017            0.136346             -0.551315 -1.038715        -0.878846  \n",
              "12278          -1.147097              0.132859  1.295035         0.604230  \n",
              "2859            1.075450             -0.220922 -0.779410        -0.582231  \n",
              "5495           -0.896669              0.252488 -0.520104         0.900845  \n",
              "8469           -1.428828              0.613527  1.295035         0.010999  "
            ]
          },
          "execution_count": 17,
          "metadata": {},
          "output_type": "execute_result"
        }
      ],
      "source": [
        "X_train.head()"
      ]
    },
    {
      "cell_type": "markdown",
      "metadata": {
        "id": "upeKo2UVs8WH"
      },
      "source": [
        "# Training and Testing\n",
        "Use any suitable classifier to fit the training data and check the accuracy on test data\n",
        "\n",
        "Don't forget to import that library"
      ]
    },
    {
      "cell_type": "markdown",
      "metadata": {
        "id": "amPA5lMY3adM"
      },
      "source": [
        "**CODE**\n",
        "\n",
        "ACCURACY should be more than 90%,\n",
        "\n",
        "1. Fit the model to X_train and y_train\n",
        "2. Find the model score on X_test and y_test"
      ]
    },
    {
      "cell_type": "code",
      "execution_count": 30,
      "metadata": {
        "colab": {
          "base_uri": "https://localhost:8080/"
        },
        "id": "yei6MWgW0Si9",
        "outputId": "76e666a0-184e-4850-b796-69da48f0a393"
      },
      "outputs": [
        {
          "name": "stdout",
          "output_type": "stream",
          "text": [
            "Epoch 1/15\n"
          ]
        },
        {
          "name": "stderr",
          "output_type": "stream",
          "text": [
            "C:\\Users\\pravm\\AppData\\Local\\Packages\\PythonSoftwareFoundation.Python.3.11_qbz5n2kfra8p0\\LocalCache\\local-packages\\Python311\\site-packages\\keras\\src\\layers\\core\\dense.py:87: UserWarning: Do not pass an `input_shape`/`input_dim` argument to a layer. When using Sequential models, prefer using an `Input(shape)` object as the first layer in the model instead.\n",
            "  super().__init__(activity_regularizer=activity_regularizer, **kwargs)\n"
          ]
        },
        {
          "name": "stdout",
          "output_type": "stream",
          "text": [
            "\u001b[1m372/372\u001b[0m \u001b[32m━━━━━━━━━━━━━━━━━━━━\u001b[0m\u001b[37m\u001b[0m \u001b[1m1s\u001b[0m 958us/step - accuracy: 0.7431 - loss: 0.8023\n",
            "Epoch 2/15\n",
            "\u001b[1m372/372\u001b[0m \u001b[32m━━━━━━━━━━━━━━━━━━━━\u001b[0m\u001b[37m\u001b[0m \u001b[1m0s\u001b[0m 937us/step - accuracy: 0.8938 - loss: 0.3377\n",
            "Epoch 3/15\n",
            "\u001b[1m372/372\u001b[0m \u001b[32m━━━━━━━━━━━━━━━━━━━━\u001b[0m\u001b[37m\u001b[0m \u001b[1m0s\u001b[0m 894us/step - accuracy: 0.9034 - loss: 0.2793\n",
            "Epoch 4/15\n",
            "\u001b[1m372/372\u001b[0m \u001b[32m━━━━━━━━━━━━━━━━━━━━\u001b[0m\u001b[37m\u001b[0m \u001b[1m0s\u001b[0m 853us/step - accuracy: 0.9003 - loss: 0.2681\n",
            "Epoch 5/15\n",
            "\u001b[1m372/372\u001b[0m \u001b[32m━━━━━━━━━━━━━━━━━━━━\u001b[0m\u001b[37m\u001b[0m \u001b[1m0s\u001b[0m 843us/step - accuracy: 0.9052 - loss: 0.2500\n",
            "Epoch 6/15\n",
            "\u001b[1m372/372\u001b[0m \u001b[32m━━━━━━━━━━━━━━━━━━━━\u001b[0m\u001b[37m\u001b[0m \u001b[1m0s\u001b[0m 940us/step - accuracy: 0.9078 - loss: 0.2350\n",
            "Epoch 7/15\n",
            "\u001b[1m372/372\u001b[0m \u001b[32m━━━━━━━━━━━━━━━━━━━━\u001b[0m\u001b[37m\u001b[0m \u001b[1m0s\u001b[0m 989us/step - accuracy: 0.9066 - loss: 0.2360\n",
            "Epoch 8/15\n",
            "\u001b[1m372/372\u001b[0m \u001b[32m━━━━━━━━━━━━━━━━━━━━\u001b[0m\u001b[37m\u001b[0m \u001b[1m0s\u001b[0m 859us/step - accuracy: 0.9105 - loss: 0.2204\n",
            "Epoch 9/15\n",
            "\u001b[1m372/372\u001b[0m \u001b[32m━━━━━━━━━━━━━━━━━━━━\u001b[0m\u001b[37m\u001b[0m \u001b[1m0s\u001b[0m 844us/step - accuracy: 0.9139 - loss: 0.2048\n",
            "Epoch 10/15\n",
            "\u001b[1m372/372\u001b[0m \u001b[32m━━━━━━━━━━━━━━━━━━━━\u001b[0m\u001b[37m\u001b[0m \u001b[1m0s\u001b[0m 944us/step - accuracy: 0.9181 - loss: 0.1984\n",
            "Epoch 11/15\n",
            "\u001b[1m372/372\u001b[0m \u001b[32m━━━━━━━━━━━━━━━━━━━━\u001b[0m\u001b[37m\u001b[0m \u001b[1m0s\u001b[0m 949us/step - accuracy: 0.9216 - loss: 0.1870\n",
            "Epoch 12/15\n",
            "\u001b[1m372/372\u001b[0m \u001b[32m━━━━━━━━━━━━━━━━━━━━\u001b[0m\u001b[37m\u001b[0m \u001b[1m0s\u001b[0m 838us/step - accuracy: 0.9156 - loss: 0.2011\n",
            "Epoch 13/15\n",
            "\u001b[1m372/372\u001b[0m \u001b[32m━━━━━━━━━━━━━━━━━━━━\u001b[0m\u001b[37m\u001b[0m \u001b[1m0s\u001b[0m 987us/step - accuracy: 0.9175 - loss: 0.1899\n",
            "Epoch 14/15\n",
            "\u001b[1m372/372\u001b[0m \u001b[32m━━━━━━━━━━━━━━━━━━━━\u001b[0m\u001b[37m\u001b[0m \u001b[1m0s\u001b[0m 913us/step - accuracy: 0.9225 - loss: 0.1840\n",
            "Epoch 15/15\n",
            "\u001b[1m372/372\u001b[0m \u001b[32m━━━━━━━━━━━━━━━━━━━━\u001b[0m\u001b[37m\u001b[0m \u001b[1m0s\u001b[0m 831us/step - accuracy: 0.9224 - loss: 0.1881\n",
            "\u001b[1m42/42\u001b[0m \u001b[32m━━━━━━━━━━━━━━━━━━━━\u001b[0m\u001b[37m\u001b[0m \u001b[1m0s\u001b[0m 948us/step - accuracy: 0.9117 - loss: 0.2202\n",
            "Accuracy: 91.13636612892151\n"
          ]
        }
      ],
      "source": [
        "from tensorflow import keras\n",
        "\n",
        "model = keras.Sequential([keras.layers.Dense(64, activation='relu', input_shape=(X_train.shape[1],)),keras.layers.Dense(32, activation='relu'),keras.layers.Dense(4, activation='softmax')])\n",
        "model.compile(optimizer='adam',loss='sparse_categorical_crossentropy',metrics=['accuracy'])\n",
        "model.fit(X_train, y_train, epochs=15)\n",
        "loss, score = model.evaluate(X_test,y_test)\n",
        "\n",
        "print(\"Accuracy:\", score*100)"
      ]
    },
    {
      "cell_type": "markdown",
      "metadata": {
        "id": "gv0LHa5FuDSU"
      },
      "source": [
        "**TEST** (DON'T EDIT THIS CELL)"
      ]
    },
    {
      "cell_type": "code",
      "execution_count": 29,
      "metadata": {
        "colab": {
          "base_uri": "https://localhost:8080/"
        },
        "id": "WYopYL5MuAam",
        "outputId": "b1358053-d4fe-4f05-9d9d-105b4ae275ab"
      },
      "outputs": [
        {
          "name": "stdout",
          "output_type": "stream",
          "text": [
            "\u001b[32mTest Passed\u001b[0m\n"
          ]
        }
      ],
      "source": [
        "# DON'T EDIT THIS CELL\n",
        "\n",
        "if (score>0.90):\n",
        "  print(f\"\\033[32mTest Passed\\033[0m\")\n",
        "else:\n",
        "  print(f\"\\033[31mTest Failed\\033[0m\")"
      ]
    },
    {
      "cell_type": "markdown",
      "metadata": {
        "id": "pOnUEVEsuQlA"
      },
      "source": [
        "# Predicting Output (Here, Weather Type) (Optional)"
      ]
    },
    {
      "cell_type": "code",
      "execution_count": 22,
      "metadata": {
        "colab": {
          "base_uri": "https://localhost:8080/",
          "height": 206
        },
        "id": "oAvmODuFwDNl",
        "outputId": "ebe21d1d-9a54-44a1-c6bd-b9cdfe750418"
      },
      "outputs": [
        {
          "data": {
            "text/html": [
              "<div>\n",
              "<style scoped>\n",
              "    .dataframe tbody tr th:only-of-type {\n",
              "        vertical-align: middle;\n",
              "    }\n",
              "\n",
              "    .dataframe tbody tr th {\n",
              "        vertical-align: top;\n",
              "    }\n",
              "\n",
              "    .dataframe thead th {\n",
              "        text-align: right;\n",
              "    }\n",
              "</style>\n",
              "<table border=\"1\" class=\"dataframe\">\n",
              "  <thead>\n",
              "    <tr style=\"text-align: right;\">\n",
              "      <th></th>\n",
              "      <th>Cloud Cover</th>\n",
              "      <th>Season</th>\n",
              "      <th>Location</th>\n",
              "      <th>Temperature</th>\n",
              "      <th>Humidity</th>\n",
              "      <th>Wind Speed</th>\n",
              "      <th>Precipitation (%)</th>\n",
              "      <th>Atmospheric Pressure</th>\n",
              "      <th>UV Index</th>\n",
              "      <th>Visibility (km)</th>\n",
              "    </tr>\n",
              "  </thead>\n",
              "  <tbody>\n",
              "    <tr>\n",
              "      <th>11923</th>\n",
              "      <td>0.0</td>\n",
              "      <td>2.0</td>\n",
              "      <td>0.0</td>\n",
              "      <td>1.027998</td>\n",
              "      <td>-1.619871</td>\n",
              "      <td>-0.627087</td>\n",
              "      <td>-1.178401</td>\n",
              "      <td>0.439325</td>\n",
              "      <td>0.517118</td>\n",
              "      <td>0.010999</td>\n",
              "    </tr>\n",
              "    <tr>\n",
              "      <th>2331</th>\n",
              "      <td>3.0</td>\n",
              "      <td>3.0</td>\n",
              "      <td>2.0</td>\n",
              "      <td>-0.985155</td>\n",
              "      <td>-1.372266</td>\n",
              "      <td>0.675666</td>\n",
              "      <td>1.263271</td>\n",
              "      <td>3.815297</td>\n",
              "      <td>1.813646</td>\n",
              "      <td>-1.323769</td>\n",
              "    </tr>\n",
              "    <tr>\n",
              "      <th>217</th>\n",
              "      <td>2.0</td>\n",
              "      <td>3.0</td>\n",
              "      <td>1.0</td>\n",
              "      <td>-1.560341</td>\n",
              "      <td>1.351385</td>\n",
              "      <td>0.820417</td>\n",
              "      <td>-0.051475</td>\n",
              "      <td>-0.384102</td>\n",
              "      <td>-1.038715</td>\n",
              "      <td>-0.285616</td>\n",
              "    </tr>\n",
              "    <tr>\n",
              "      <th>1760</th>\n",
              "      <td>2.0</td>\n",
              "      <td>0.0</td>\n",
              "      <td>0.0</td>\n",
              "      <td>0.682886</td>\n",
              "      <td>0.360966</td>\n",
              "      <td>0.024290</td>\n",
              "      <td>0.042435</td>\n",
              "      <td>-0.038655</td>\n",
              "      <td>-0.520104</td>\n",
              "      <td>-0.137308</td>\n",
              "    </tr>\n",
              "    <tr>\n",
              "      <th>3963</th>\n",
              "      <td>2.0</td>\n",
              "      <td>3.0</td>\n",
              "      <td>1.0</td>\n",
              "      <td>0.740404</td>\n",
              "      <td>-0.084722</td>\n",
              "      <td>-0.337587</td>\n",
              "      <td>-0.427117</td>\n",
              "      <td>0.287974</td>\n",
              "      <td>-0.520104</td>\n",
              "      <td>0.010999</td>\n",
              "    </tr>\n",
              "  </tbody>\n",
              "</table>\n",
              "</div>"
            ],
            "text/plain": [
              "       Cloud Cover  Season  Location  Temperature  Humidity  Wind Speed  \\\n",
              "11923          0.0     2.0       0.0     1.027998 -1.619871   -0.627087   \n",
              "2331           3.0     3.0       2.0    -0.985155 -1.372266    0.675666   \n",
              "217            2.0     3.0       1.0    -1.560341  1.351385    0.820417   \n",
              "1760           2.0     0.0       0.0     0.682886  0.360966    0.024290   \n",
              "3963           2.0     3.0       1.0     0.740404 -0.084722   -0.337587   \n",
              "\n",
              "       Precipitation (%)  Atmospheric Pressure  UV Index  Visibility (km)  \n",
              "11923          -1.178401              0.439325  0.517118         0.010999  \n",
              "2331            1.263271              3.815297  1.813646        -1.323769  \n",
              "217            -0.051475             -0.384102 -1.038715        -0.285616  \n",
              "1760            0.042435             -0.038655 -0.520104        -0.137308  \n",
              "3963           -0.427117              0.287974 -0.520104         0.010999  "
            ]
          },
          "execution_count": 22,
          "metadata": {},
          "output_type": "execute_result"
        }
      ],
      "source": [
        "input = X_test.head()\n",
        "input"
      ]
    },
    {
      "cell_type": "code",
      "execution_count": 23,
      "metadata": {
        "colab": {
          "base_uri": "https://localhost:8080/"
        },
        "id": "jZAkEyqUONIc",
        "outputId": "3dfb4f1e-d85e-442d-9c7d-2ae3022a57ed"
      },
      "outputs": [
        {
          "name": "stdout",
          "output_type": "stream",
          "text": [
            "\u001b[1m1/1\u001b[0m \u001b[32m━━━━━━━━━━━━━━━━━━━━\u001b[0m\u001b[37m\u001b[0m \u001b[1m0s\u001b[0m 47ms/step\n"
          ]
        },
        {
          "data": {
            "text/plain": [
              "array([[3.3599880e-04, 6.6417168e-05, 1.2398976e-03, 9.9835771e-01],\n",
              "       [1.9779232e-01, 1.2688161e-01, 5.5293572e-01, 1.2239035e-01],\n",
              "       [9.8598430e-05, 5.9366110e-05, 9.9971455e-01, 1.2747690e-04],\n",
              "       [3.0695322e-01, 6.8923759e-01, 2.1151800e-04, 3.5976570e-03],\n",
              "       [9.6976054e-01, 2.6970977e-02, 2.2101629e-04, 3.0474386e-03]],\n",
              "      dtype=float32)"
            ]
          },
          "execution_count": 23,
          "metadata": {},
          "output_type": "execute_result"
        }
      ],
      "source": [
        "y = model.predict(input)\n",
        "y"
      ]
    },
    {
      "cell_type": "markdown",
      "metadata": {
        "id": "zuNM1UNPyY7p"
      },
      "source": [
        "Here, the outputs are in numbers. We can perform inverse column transfer for getiing the string values.\n"
      ]
    },
    {
      "cell_type": "code",
      "execution_count": 24,
      "metadata": {
        "colab": {
          "base_uri": "https://localhost:8080/"
        },
        "id": "TLqBShnzluQ9",
        "outputId": "522877ef-8fac-43e9-c4f5-fbec2bfa613f"
      },
      "outputs": [
        {
          "data": {
            "text/plain": [
              "array(['partly cloudy', 'overcast', 'overcast', 'cloudy', 'clear'],\n",
              "      dtype=object)"
            ]
          },
          "execution_count": 24,
          "metadata": {},
          "output_type": "execute_result"
        }
      ],
      "source": [
        "pred = weather_type_mapping[np.argmax(y, axis=1)]\n",
        "pred"
      ]
    }
  ],
  "metadata": {
    "colab": {
      "provenance": []
    },
    "kernelspec": {
      "display_name": "Python 3",
      "name": "python3"
    },
    "language_info": {
      "codemirror_mode": {
        "name": "ipython",
        "version": 3
      },
      "file_extension": ".py",
      "mimetype": "text/x-python",
      "name": "python",
      "nbconvert_exporter": "python",
      "pygments_lexer": "ipython3",
      "version": "3.11.9"
    }
  },
  "nbformat": 4,
  "nbformat_minor": 0
}
