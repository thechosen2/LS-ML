{
  "cells": [
    {
      "cell_type": "code",
      "execution_count": 3,
      "metadata": {
        "id": "mNqKpEeXKFxy"
      },
      "outputs": [],
      "source": [
        "from ultralytics import YOLO\n",
        "from IPython.display import display, Image"
      ]
    },
    {
      "cell_type": "code",
      "execution_count": 4,
      "metadata": {
        "id": "Be1WEOCZOlXx"
      },
      "outputs": [],
      "source": [
        "model = YOLO('yolov8n.yaml')"
      ]
    },
    {
      "cell_type": "code",
      "execution_count": null,
      "metadata": {
        "colab": {
          "base_uri": "https://localhost:8080/"
        },
        "id": "E18-jMmXO95S",
        "outputId": "c82884c1-7cef-4923-b3da-2bc61342a102"
      },
      "outputs": [],
      "source": [
        "model.train(data='./content/car/data.yaml', epochs=10)\n",
        "\n",
        "print(\"Success!\")"
      ]
    },
    {
      "cell_type": "code",
      "execution_count": null,
      "metadata": {
        "colab": {
          "base_uri": "https://localhost:8080/"
        },
        "id": "QuTHX5RIaNwY",
        "outputId": "895e17b0-2f22-45dd-a7e1-9c76df6cf894"
      },
      "outputs": [],
      "source": [
        "results = model.val(data='./content/car/data.yaml')"
      ]
    },
    {
      "cell_type": "code",
      "execution_count": null,
      "metadata": {
        "colab": {
          "base_uri": "https://localhost:8080/",
          "height": 517
        },
        "id": "c3EEzPNYoQZI",
        "outputId": "51bfb4ee-51f8-419f-bdfa-c8bde3d3a65d"
      },
      "outputs": [],
      "source": [
        "Image(filename='./runs/detect/train42/confusion_matrix.png',height=500)"
      ]
    },
    {
      "cell_type": "code",
      "execution_count": null,
      "metadata": {
        "colab": {
          "base_uri": "https://localhost:8080/",
          "height": 517
        },
        "id": "X0VhRsffnfF6",
        "outputId": "2b3d7c25-54e9-4de0-e219-adb215d6ec47"
      },
      "outputs": [],
      "source": [
        "Image(filename='./runs/detect/train4/results.png', height=500)"
      ]
    }
  ],
  "metadata": {
    "accelerator": "GPU",
    "colab": {
      "gpuType": "T4",
      "provenance": []
    },
    "kernelspec": {
      "display_name": "Python 3",
      "name": "python3"
    },
    "language_info": {
      "codemirror_mode": {
        "name": "ipython",
        "version": 3
      },
      "file_extension": ".py",
      "mimetype": "text/x-python",
      "name": "python",
      "nbconvert_exporter": "python",
      "pygments_lexer": "ipython3",
      "version": "3.11.9"
    }
  },
  "nbformat": 4,
  "nbformat_minor": 0
}
